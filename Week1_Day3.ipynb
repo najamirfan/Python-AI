{
  "cells": [
    {
      "cell_type": "markdown",
      "id": "ae5523c3",
      "metadata": {
        "id": "ae5523c3"
      },
      "source": [
        "# Week 1 - Day 3 Lab: Data & Matrix Manipulation\n",
        "In this lab, you'll work with a realistic weather dataset. You'll use **Pandas** to explore and clean the data, and **NumPy** to perform matrix operations.\n",
        "\n",
        "**Dataset:** `hourly_weather_10_days.csv` (10 days of hourly weather data)"
      ]
    },
    {
      "cell_type": "markdown",
      "id": "10e89261",
      "metadata": {
        "id": "10e89261"
      },
      "source": [
        "## Step 1: Load the Data\n",
        "- Use Pandas to load the CSV file\n",
        "- Display the first few rows\n",
        "- Check the number of rows and columns"
      ]
    },
    {
      "cell_type": "code",
      "execution_count": 13,
      "id": "9b7002fd",
      "metadata": {
        "id": "9b7002fd",
        "colab": {
          "base_uri": "https://localhost:8080/",
          "height": 206
        },
        "outputId": "40c568e1-b285-48cb-f00b-ec998a5c1ff6"
      },
      "outputs": [
        {
          "output_type": "execute_result",
          "data": {
            "text/plain": [
              "             timestamp  temperature_C  humidity_%  wind_speed_kmph  \\\n",
              "0  2023-03-01 00:00:00           16.6        74.4              5.7   \n",
              "1  2023-03-01 01:00:00           16.2        78.5              5.0   \n",
              "2  2023-03-01 02:00:00           15.3        73.3              4.7   \n",
              "3  2023-03-01 03:00:00           15.8        72.4              1.3   \n",
              "4  2023-03-01 04:00:00           20.9        70.6              6.8   \n",
              "\n",
              "   pressure_hPa  visibility_km  \n",
              "0        1012.5            9.5  \n",
              "1        1012.1           10.3  \n",
              "2           NaN           11.1  \n",
              "3        1005.0            8.9  \n",
              "4        1016.3            9.8  "
            ],
            "text/html": [
              "\n",
              "  <div id=\"df-c7d61d27-649a-4ec8-a23c-c32aa959d261\" class=\"colab-df-container\">\n",
              "    <div>\n",
              "<style scoped>\n",
              "    .dataframe tbody tr th:only-of-type {\n",
              "        vertical-align: middle;\n",
              "    }\n",
              "\n",
              "    .dataframe tbody tr th {\n",
              "        vertical-align: top;\n",
              "    }\n",
              "\n",
              "    .dataframe thead th {\n",
              "        text-align: right;\n",
              "    }\n",
              "</style>\n",
              "<table border=\"1\" class=\"dataframe\">\n",
              "  <thead>\n",
              "    <tr style=\"text-align: right;\">\n",
              "      <th></th>\n",
              "      <th>timestamp</th>\n",
              "      <th>temperature_C</th>\n",
              "      <th>humidity_%</th>\n",
              "      <th>wind_speed_kmph</th>\n",
              "      <th>pressure_hPa</th>\n",
              "      <th>visibility_km</th>\n",
              "    </tr>\n",
              "  </thead>\n",
              "  <tbody>\n",
              "    <tr>\n",
              "      <th>0</th>\n",
              "      <td>2023-03-01 00:00:00</td>\n",
              "      <td>16.6</td>\n",
              "      <td>74.4</td>\n",
              "      <td>5.7</td>\n",
              "      <td>1012.5</td>\n",
              "      <td>9.5</td>\n",
              "    </tr>\n",
              "    <tr>\n",
              "      <th>1</th>\n",
              "      <td>2023-03-01 01:00:00</td>\n",
              "      <td>16.2</td>\n",
              "      <td>78.5</td>\n",
              "      <td>5.0</td>\n",
              "      <td>1012.1</td>\n",
              "      <td>10.3</td>\n",
              "    </tr>\n",
              "    <tr>\n",
              "      <th>2</th>\n",
              "      <td>2023-03-01 02:00:00</td>\n",
              "      <td>15.3</td>\n",
              "      <td>73.3</td>\n",
              "      <td>4.7</td>\n",
              "      <td>NaN</td>\n",
              "      <td>11.1</td>\n",
              "    </tr>\n",
              "    <tr>\n",
              "      <th>3</th>\n",
              "      <td>2023-03-01 03:00:00</td>\n",
              "      <td>15.8</td>\n",
              "      <td>72.4</td>\n",
              "      <td>1.3</td>\n",
              "      <td>1005.0</td>\n",
              "      <td>8.9</td>\n",
              "    </tr>\n",
              "    <tr>\n",
              "      <th>4</th>\n",
              "      <td>2023-03-01 04:00:00</td>\n",
              "      <td>20.9</td>\n",
              "      <td>70.6</td>\n",
              "      <td>6.8</td>\n",
              "      <td>1016.3</td>\n",
              "      <td>9.8</td>\n",
              "    </tr>\n",
              "  </tbody>\n",
              "</table>\n",
              "</div>\n",
              "    <div class=\"colab-df-buttons\">\n",
              "\n",
              "  <div class=\"colab-df-container\">\n",
              "    <button class=\"colab-df-convert\" onclick=\"convertToInteractive('df-c7d61d27-649a-4ec8-a23c-c32aa959d261')\"\n",
              "            title=\"Convert this dataframe to an interactive table.\"\n",
              "            style=\"display:none;\">\n",
              "\n",
              "  <svg xmlns=\"http://www.w3.org/2000/svg\" height=\"24px\" viewBox=\"0 -960 960 960\">\n",
              "    <path d=\"M120-120v-720h720v720H120Zm60-500h600v-160H180v160Zm220 220h160v-160H400v160Zm0 220h160v-160H400v160ZM180-400h160v-160H180v160Zm440 0h160v-160H620v160ZM180-180h160v-160H180v160Zm440 0h160v-160H620v160Z\"/>\n",
              "  </svg>\n",
              "    </button>\n",
              "\n",
              "  <style>\n",
              "    .colab-df-container {\n",
              "      display:flex;\n",
              "      gap: 12px;\n",
              "    }\n",
              "\n",
              "    .colab-df-convert {\n",
              "      background-color: #E8F0FE;\n",
              "      border: none;\n",
              "      border-radius: 50%;\n",
              "      cursor: pointer;\n",
              "      display: none;\n",
              "      fill: #1967D2;\n",
              "      height: 32px;\n",
              "      padding: 0 0 0 0;\n",
              "      width: 32px;\n",
              "    }\n",
              "\n",
              "    .colab-df-convert:hover {\n",
              "      background-color: #E2EBFA;\n",
              "      box-shadow: 0px 1px 2px rgba(60, 64, 67, 0.3), 0px 1px 3px 1px rgba(60, 64, 67, 0.15);\n",
              "      fill: #174EA6;\n",
              "    }\n",
              "\n",
              "    .colab-df-buttons div {\n",
              "      margin-bottom: 4px;\n",
              "    }\n",
              "\n",
              "    [theme=dark] .colab-df-convert {\n",
              "      background-color: #3B4455;\n",
              "      fill: #D2E3FC;\n",
              "    }\n",
              "\n",
              "    [theme=dark] .colab-df-convert:hover {\n",
              "      background-color: #434B5C;\n",
              "      box-shadow: 0px 1px 3px 1px rgba(0, 0, 0, 0.15);\n",
              "      filter: drop-shadow(0px 1px 2px rgba(0, 0, 0, 0.3));\n",
              "      fill: #FFFFFF;\n",
              "    }\n",
              "  </style>\n",
              "\n",
              "    <script>\n",
              "      const buttonEl =\n",
              "        document.querySelector('#df-c7d61d27-649a-4ec8-a23c-c32aa959d261 button.colab-df-convert');\n",
              "      buttonEl.style.display =\n",
              "        google.colab.kernel.accessAllowed ? 'block' : 'none';\n",
              "\n",
              "      async function convertToInteractive(key) {\n",
              "        const element = document.querySelector('#df-c7d61d27-649a-4ec8-a23c-c32aa959d261');\n",
              "        const dataTable =\n",
              "          await google.colab.kernel.invokeFunction('convertToInteractive',\n",
              "                                                    [key], {});\n",
              "        if (!dataTable) return;\n",
              "\n",
              "        const docLinkHtml = 'Like what you see? Visit the ' +\n",
              "          '<a target=\"_blank\" href=https://colab.research.google.com/notebooks/data_table.ipynb>data table notebook</a>'\n",
              "          + ' to learn more about interactive tables.';\n",
              "        element.innerHTML = '';\n",
              "        dataTable['output_type'] = 'display_data';\n",
              "        await google.colab.output.renderOutput(dataTable, element);\n",
              "        const docLink = document.createElement('div');\n",
              "        docLink.innerHTML = docLinkHtml;\n",
              "        element.appendChild(docLink);\n",
              "      }\n",
              "    </script>\n",
              "  </div>\n",
              "\n",
              "\n",
              "    <div id=\"df-203c24be-ff18-4a5b-9c96-3fa7643ff886\">\n",
              "      <button class=\"colab-df-quickchart\" onclick=\"quickchart('df-203c24be-ff18-4a5b-9c96-3fa7643ff886')\"\n",
              "                title=\"Suggest charts\"\n",
              "                style=\"display:none;\">\n",
              "\n",
              "<svg xmlns=\"http://www.w3.org/2000/svg\" height=\"24px\"viewBox=\"0 0 24 24\"\n",
              "     width=\"24px\">\n",
              "    <g>\n",
              "        <path d=\"M19 3H5c-1.1 0-2 .9-2 2v14c0 1.1.9 2 2 2h14c1.1 0 2-.9 2-2V5c0-1.1-.9-2-2-2zM9 17H7v-7h2v7zm4 0h-2V7h2v10zm4 0h-2v-4h2v4z\"/>\n",
              "    </g>\n",
              "</svg>\n",
              "      </button>\n",
              "\n",
              "<style>\n",
              "  .colab-df-quickchart {\n",
              "      --bg-color: #E8F0FE;\n",
              "      --fill-color: #1967D2;\n",
              "      --hover-bg-color: #E2EBFA;\n",
              "      --hover-fill-color: #174EA6;\n",
              "      --disabled-fill-color: #AAA;\n",
              "      --disabled-bg-color: #DDD;\n",
              "  }\n",
              "\n",
              "  [theme=dark] .colab-df-quickchart {\n",
              "      --bg-color: #3B4455;\n",
              "      --fill-color: #D2E3FC;\n",
              "      --hover-bg-color: #434B5C;\n",
              "      --hover-fill-color: #FFFFFF;\n",
              "      --disabled-bg-color: #3B4455;\n",
              "      --disabled-fill-color: #666;\n",
              "  }\n",
              "\n",
              "  .colab-df-quickchart {\n",
              "    background-color: var(--bg-color);\n",
              "    border: none;\n",
              "    border-radius: 50%;\n",
              "    cursor: pointer;\n",
              "    display: none;\n",
              "    fill: var(--fill-color);\n",
              "    height: 32px;\n",
              "    padding: 0;\n",
              "    width: 32px;\n",
              "  }\n",
              "\n",
              "  .colab-df-quickchart:hover {\n",
              "    background-color: var(--hover-bg-color);\n",
              "    box-shadow: 0 1px 2px rgba(60, 64, 67, 0.3), 0 1px 3px 1px rgba(60, 64, 67, 0.15);\n",
              "    fill: var(--button-hover-fill-color);\n",
              "  }\n",
              "\n",
              "  .colab-df-quickchart-complete:disabled,\n",
              "  .colab-df-quickchart-complete:disabled:hover {\n",
              "    background-color: var(--disabled-bg-color);\n",
              "    fill: var(--disabled-fill-color);\n",
              "    box-shadow: none;\n",
              "  }\n",
              "\n",
              "  .colab-df-spinner {\n",
              "    border: 2px solid var(--fill-color);\n",
              "    border-color: transparent;\n",
              "    border-bottom-color: var(--fill-color);\n",
              "    animation:\n",
              "      spin 1s steps(1) infinite;\n",
              "  }\n",
              "\n",
              "  @keyframes spin {\n",
              "    0% {\n",
              "      border-color: transparent;\n",
              "      border-bottom-color: var(--fill-color);\n",
              "      border-left-color: var(--fill-color);\n",
              "    }\n",
              "    20% {\n",
              "      border-color: transparent;\n",
              "      border-left-color: var(--fill-color);\n",
              "      border-top-color: var(--fill-color);\n",
              "    }\n",
              "    30% {\n",
              "      border-color: transparent;\n",
              "      border-left-color: var(--fill-color);\n",
              "      border-top-color: var(--fill-color);\n",
              "      border-right-color: var(--fill-color);\n",
              "    }\n",
              "    40% {\n",
              "      border-color: transparent;\n",
              "      border-right-color: var(--fill-color);\n",
              "      border-top-color: var(--fill-color);\n",
              "    }\n",
              "    60% {\n",
              "      border-color: transparent;\n",
              "      border-right-color: var(--fill-color);\n",
              "    }\n",
              "    80% {\n",
              "      border-color: transparent;\n",
              "      border-right-color: var(--fill-color);\n",
              "      border-bottom-color: var(--fill-color);\n",
              "    }\n",
              "    90% {\n",
              "      border-color: transparent;\n",
              "      border-bottom-color: var(--fill-color);\n",
              "    }\n",
              "  }\n",
              "</style>\n",
              "\n",
              "      <script>\n",
              "        async function quickchart(key) {\n",
              "          const quickchartButtonEl =\n",
              "            document.querySelector('#' + key + ' button');\n",
              "          quickchartButtonEl.disabled = true;  // To prevent multiple clicks.\n",
              "          quickchartButtonEl.classList.add('colab-df-spinner');\n",
              "          try {\n",
              "            const charts = await google.colab.kernel.invokeFunction(\n",
              "                'suggestCharts', [key], {});\n",
              "          } catch (error) {\n",
              "            console.error('Error during call to suggestCharts:', error);\n",
              "          }\n",
              "          quickchartButtonEl.classList.remove('colab-df-spinner');\n",
              "          quickchartButtonEl.classList.add('colab-df-quickchart-complete');\n",
              "        }\n",
              "        (() => {\n",
              "          let quickchartButtonEl =\n",
              "            document.querySelector('#df-203c24be-ff18-4a5b-9c96-3fa7643ff886 button');\n",
              "          quickchartButtonEl.style.display =\n",
              "            google.colab.kernel.accessAllowed ? 'block' : 'none';\n",
              "        })();\n",
              "      </script>\n",
              "    </div>\n",
              "\n",
              "    </div>\n",
              "  </div>\n"
            ],
            "application/vnd.google.colaboratory.intrinsic+json": {
              "type": "dataframe",
              "variable_name": "df",
              "summary": "{\n  \"name\": \"df\",\n  \"rows\": 240,\n  \"fields\": [\n    {\n      \"column\": \"timestamp\",\n      \"properties\": {\n        \"dtype\": \"object\",\n        \"num_unique_values\": 240,\n        \"samples\": [\n          \"2023-03-02 00:00:00\",\n          \"2023-03-01 06:00:00\",\n          \"2023-03-04 21:00:00\"\n        ],\n        \"semantic_type\": \"\",\n        \"description\": \"\"\n      }\n    },\n    {\n      \"column\": \"temperature_C\",\n      \"properties\": {\n        \"dtype\": \"number\",\n        \"std\": 3.421236578550004,\n        \"min\": 11.5,\n        \"max\": 28.7,\n        \"num_unique_values\": 105,\n        \"samples\": [\n          28.7,\n          21.1,\n          19.8\n        ],\n        \"semantic_type\": \"\",\n        \"description\": \"\"\n      }\n    },\n    {\n      \"column\": \"humidity_%\",\n      \"properties\": {\n        \"dtype\": \"number\",\n        \"std\": 8.19030006621049,\n        \"min\": 47.8,\n        \"max\": 88.1,\n        \"num_unique_values\": 152,\n        \"samples\": [\n          56.5,\n          60.9,\n          57.0\n        ],\n        \"semantic_type\": \"\",\n        \"description\": \"\"\n      }\n    },\n    {\n      \"column\": \"wind_speed_kmph\",\n      \"properties\": {\n        \"dtype\": \"number\",\n        \"std\": 3.94066752851656,\n        \"min\": 1.3,\n        \"max\": 17.8,\n        \"num_unique_values\": 117,\n        \"samples\": [\n          17.8,\n          6.8,\n          17.0\n        ],\n        \"semantic_type\": \"\",\n        \"description\": \"\"\n      }\n    },\n    {\n      \"column\": \"pressure_hPa\",\n      \"properties\": {\n        \"dtype\": \"number\",\n        \"std\": 5.187080347265346,\n        \"min\": 998.1,\n        \"max\": 1027.0,\n        \"num_unique_values\": 135,\n        \"samples\": [\n          1009.0,\n          1011.3,\n          1007.5\n        ],\n        \"semantic_type\": \"\",\n        \"description\": \"\"\n      }\n    },\n    {\n      \"column\": \"visibility_km\",\n      \"properties\": {\n        \"dtype\": \"number\",\n        \"std\": 1.0221656564668842,\n        \"min\": 6.8,\n        \"max\": 12.6,\n        \"num_unique_values\": 47,\n        \"samples\": [\n          8.6,\n          8.4,\n          11.2\n        ],\n        \"semantic_type\": \"\",\n        \"description\": \"\"\n      }\n    }\n  ]\n}"
            }
          },
          "metadata": {},
          "execution_count": 13
        }
      ],
      "source": [
        "# TODO: Load the data into a DataFrame\n",
        "import pandas as pd\n",
        "\n",
        "# Replace the file path if needed\n",
        "df = pd.read_csv('hourly_weather_10_days.csv')\n",
        "df.head()"
      ]
    },
    {
      "cell_type": "markdown",
      "id": "52e816b2",
      "metadata": {
        "id": "52e816b2"
      },
      "source": [
        "## Step 2: Basic Exploration\n",
        "- Check column names and data types\n",
        "- Display basic statistics using `.describe()`\n",
        "- Count missing values in each column"
      ]
    },
    {
      "cell_type": "code",
      "execution_count": 2,
      "id": "6b6fe363",
      "metadata": {
        "id": "6b6fe363",
        "colab": {
          "base_uri": "https://localhost:8080/"
        },
        "outputId": "d317f702-c1e8-486c-fe8e-8f11352a465e"
      },
      "outputs": [
        {
          "output_type": "stream",
          "name": "stdout",
          "text": [
            "<class 'pandas.core.frame.DataFrame'>\n",
            "RangeIndex: 240 entries, 0 to 239\n",
            "Data columns (total 6 columns):\n",
            " #   Column           Non-Null Count  Dtype  \n",
            "---  ------           --------------  -----  \n",
            " 0   timestamp        240 non-null    object \n",
            " 1   temperature_C    228 non-null    float64\n",
            " 2   humidity_%       224 non-null    float64\n",
            " 3   wind_speed_kmph  226 non-null    float64\n",
            " 4   pressure_hPa     223 non-null    float64\n",
            " 5   visibility_km    228 non-null    float64\n",
            "dtypes: float64(5), object(1)\n",
            "memory usage: 11.4+ KB\n",
            "None\n",
            "       temperature_C  humidity_%  wind_speed_kmph  pressure_hPa  visibility_km\n",
            "count     228.000000  224.000000       226.000000    223.000000     228.000000\n",
            "mean       21.315789   66.795982        10.105310   1011.884753       9.989474\n",
            "std         3.421237    8.190300         3.940668      5.187080       1.022166\n",
            "min        11.500000   47.800000         1.300000    998.100000       6.800000\n",
            "25%        18.700000   61.075000         6.625000   1008.900000       9.275000\n",
            "50%        21.900000   66.300000         9.800000   1012.100000      10.000000\n",
            "75%        23.925000   72.725000        13.500000   1015.100000      10.700000\n",
            "max        28.700000   88.100000        17.800000   1027.000000      12.600000\n",
            "timestamp           0\n",
            "temperature_C      12\n",
            "humidity_%         16\n",
            "wind_speed_kmph    14\n",
            "pressure_hPa       17\n",
            "visibility_km      12\n",
            "dtype: int64\n"
          ]
        }
      ],
      "source": [
        "# TODO: Explore the DataFrame\n",
        "print(df.info())\n",
        "print(df.describe())\n",
        "print(df.isna().sum())"
      ]
    },
    {
      "cell_type": "markdown",
      "id": "b73651ed",
      "metadata": {
        "id": "b73651ed"
      },
      "source": [
        "\n",
        "## Step 3: Handle Missing Values\n",
        "- Drop or fill missing values\n",
        "- Justify your approach (e.g., fill with mean, forward fill, etc.)"
      ]
    },
    {
      "cell_type": "code",
      "execution_count": 12,
      "id": "2ed7fb33",
      "metadata": {
        "id": "2ed7fb33",
        "colab": {
          "base_uri": "https://localhost:8080/",
          "height": 515
        },
        "outputId": "74d6f685-cb27-493d-e30c-f9162055f508"
      },
      "outputs": [
        {
          "output_type": "stream",
          "name": "stdout",
          "text": [
            "Columns having missing values: timestamp          0\n",
            "temperature_C      0\n",
            "humidity_%         0\n",
            "wind_speed_kmph    0\n",
            "pressure_hPa       0\n",
            "visibility_km      0\n",
            "dtype: int64\n",
            "after removing and filling missing values, if Columns having missing values: timestamp          0\n",
            "temperature_C      0\n",
            "humidity_%         0\n",
            "wind_speed_kmph    0\n",
            "pressure_hPa       0\n",
            "visibility_km      0\n",
            "dtype: int64\n"
          ]
        },
        {
          "output_type": "execute_result",
          "data": {
            "text/plain": [
              "timestamp          0\n",
              "temperature_C      0\n",
              "humidity_%         0\n",
              "wind_speed_kmph    0\n",
              "pressure_hPa       0\n",
              "visibility_km      0\n",
              "dtype: int64"
            ],
            "text/html": [
              "<div>\n",
              "<style scoped>\n",
              "    .dataframe tbody tr th:only-of-type {\n",
              "        vertical-align: middle;\n",
              "    }\n",
              "\n",
              "    .dataframe tbody tr th {\n",
              "        vertical-align: top;\n",
              "    }\n",
              "\n",
              "    .dataframe thead th {\n",
              "        text-align: right;\n",
              "    }\n",
              "</style>\n",
              "<table border=\"1\" class=\"dataframe\">\n",
              "  <thead>\n",
              "    <tr style=\"text-align: right;\">\n",
              "      <th></th>\n",
              "      <th>0</th>\n",
              "    </tr>\n",
              "  </thead>\n",
              "  <tbody>\n",
              "    <tr>\n",
              "      <th>timestamp</th>\n",
              "      <td>0</td>\n",
              "    </tr>\n",
              "    <tr>\n",
              "      <th>temperature_C</th>\n",
              "      <td>0</td>\n",
              "    </tr>\n",
              "    <tr>\n",
              "      <th>humidity_%</th>\n",
              "      <td>0</td>\n",
              "    </tr>\n",
              "    <tr>\n",
              "      <th>wind_speed_kmph</th>\n",
              "      <td>0</td>\n",
              "    </tr>\n",
              "    <tr>\n",
              "      <th>pressure_hPa</th>\n",
              "      <td>0</td>\n",
              "    </tr>\n",
              "    <tr>\n",
              "      <th>visibility_km</th>\n",
              "      <td>0</td>\n",
              "    </tr>\n",
              "  </tbody>\n",
              "</table>\n",
              "</div><br><label><b>dtype:</b> int64</label>"
            ]
          },
          "metadata": {},
          "execution_count": 12
        }
      ],
      "source": [
        "#check if there are missing values\n",
        "print('Columns having missing values:',df.isnull().sum())\n",
        "\n",
        "\n",
        "# TODO: Fill missing values\n",
        "# Example: df['column'] = df['column'].fillna(df['column'].mean())\n",
        "df['temperature_C'] = df['temperature_C'].fillna(df['temperature_C'].mean())\n",
        "df['humidity_%'] = df['humidity_%'].fillna(df['humidity_%'].mean())\n",
        "df['wind_speed_kmph'] = df['wind_speed_kmph'].fillna(df['wind_speed_kmph'].mean())\n",
        "df['pressure_hPa'] = df['pressure_hPa'].fillna(df['pressure_hPa'].mean())\n",
        "df['visibility_km'] = df['visibility_km'].fillna(df['visibility_km'].mean())\n",
        "\n",
        "\n",
        "print('after removing and filling missing values, if Columns having missing values:',df.isnull().sum())\n",
        "\n",
        "# Fill in your logic here\n",
        "#this is another way for filling the missing values, in all over the dataframe\n",
        "df2 = df.fillna(df.mean(numeric_only=True), inplace=False)"
      ]
    },
    {
      "cell_type": "markdown",
      "id": "4e1d5c82",
      "metadata": {
        "id": "4e1d5c82"
      },
      "source": [
        "## Step 4: Data Analysis\n",
        "- Calculate daily average temperature\n",
        "- Find max, min, mean for each metric\n",
        "- Which hour of the day is the most humid on average?"
      ]
    },
    {
      "cell_type": "code",
      "execution_count": 35,
      "id": "a9860be6",
      "metadata": {
        "id": "a9860be6",
        "colab": {
          "base_uri": "https://localhost:8080/"
        },
        "outputId": "8a021bae-94ec-440c-bec4-a71c4d2700b3"
      },
      "outputs": [
        {
          "output_type": "stream",
          "name": "stdout",
          "text": [
            "TASK 01: average for the temprature column is: 21.31578947368421\n",
            "\n",
            "\n",
            "TASK 02: FINING MAX, MIN, MEAN FOR EVERY COLUMN\n",
            "                timestamp  temperature_C  humidity_%  wind_speed_kmph  \\\n",
            "min   2023-03-01 00:00:00      11.500000   47.800000          1.30000   \n",
            "mean  2023-03-05 23:30:00      21.315789   66.795982         10.10531   \n",
            "max   2023-03-10 23:00:00      28.700000   88.100000         17.80000   \n",
            "\n",
            "      pressure_hPa  visibility_km  hour           timestamp1  \n",
            "min     998.100000       6.800000   0.0  2023-03-01 00:00:00  \n",
            "mean   1011.884753       9.989474  11.5  2023-03-05 23:30:00  \n",
            "max    1027.000000      12.600000  23.0  2023-03-10 23:00:00  \n",
            "\n",
            "\n",
            "TASK 03: the day with most humid on average\n",
            "hour\n",
            "0     78.170000\n",
            "1     78.420000\n",
            "2     75.414286\n",
            "3     71.940000\n",
            "4     69.310000\n",
            "5     68.611111\n",
            "6     65.770000\n",
            "7     65.044444\n",
            "8     63.490000\n",
            "9     59.650000\n",
            "10    58.710000\n",
            "11    58.910000\n",
            "12    59.422222\n",
            "13    58.330000\n",
            "14    61.366667\n",
            "15    60.888889\n",
            "16    59.600000\n",
            "17    64.030000\n",
            "18    66.971429\n",
            "19    69.190000\n",
            "20    67.488889\n",
            "21    72.700000\n",
            "22    73.750000\n",
            "23    79.100000\n",
            "Name: humidity_%, dtype: float64\n"
          ]
        }
      ],
      "source": [
        "# TODO: Perform analysis\n",
        "# Use groupby, aggregation, and filtering functions\n",
        "# Placeholder example:\n",
        "# df['timestamp'] = pd.to_datetime(df['timestamp'])\n",
        "# df['hour'] = df['timestamp'].dt.hour\n",
        "# avg_humidity_by_hour = df.groupby('hour')['humidity_%'].mean()\n",
        "\n",
        "#average of temperature column\n",
        "average = df['temperature_C'].mean()\n",
        "print('TASK 01: average for the temprature column is:', average)\n",
        "\n",
        "#Find max, min, mean for each metric\n",
        "print(\"\\n\\nTASK 02: FINING MAX, MIN, MEAN FOR EVERY COLUMN\")\n",
        "summary = df.describe().loc[['min', 'mean', 'max']]\n",
        "print(summary)\n",
        "\n",
        "print(\"\\n\\nTASK 03: the day with most humid on average\")\n",
        "df['timestamp'] = pd.to_datetime(df['timestamp'])\n",
        "df['hour'] = df['timestamp'].dt.hour\n",
        "avg_humidity_by_hour = df.groupby('hour')['humidity_%'].mean()\n",
        "print(avg_humidity_by_hour)"
      ]
    },
    {
      "cell_type": "code",
      "source": [],
      "metadata": {
        "id": "p8U1Zbhrx3kF"
      },
      "id": "p8U1Zbhrx3kF",
      "execution_count": 35,
      "outputs": []
    },
    {
      "cell_type": "markdown",
      "id": "36119c0c",
      "metadata": {
        "id": "36119c0c"
      },
      "source": [
        "## Step 5: NumPy Matrix Exercises\n",
        "Convert relevant DataFrame columns into NumPy arrays and perform matrix operations."
      ]
    },
    {
      "cell_type": "code",
      "execution_count": 39,
      "id": "04e09e3d",
      "metadata": {
        "id": "04e09e3d",
        "colab": {
          "base_uri": "https://localhost:8080/"
        },
        "outputId": "0fdf09c5-bcd6-47e9-d853-0ed34e0a276a"
      },
      "outputs": [
        {
          "output_type": "execute_result",
          "data": {
            "text/plain": [
              "numpy.ndarray"
            ]
          },
          "metadata": {},
          "execution_count": 39
        }
      ],
      "source": [
        "# TODO: Extract temperature and wind_speed as NumPy arrays\n",
        "import numpy as np\n",
        "\n",
        "temp = df['temperature_C'].to_numpy()\n",
        "wind = df['wind_speed_kmph'].to_numpy()"
      ]
    },
    {
      "cell_type": "markdown",
      "id": "22aff3f0",
      "metadata": {
        "id": "22aff3f0"
      },
      "source": [
        "### a) Reshape into matrix form\n",
        "- Assume each row is a day\n",
        "- Reshape temperature into a (10, 24) matrix\n",
        "- Calculate daily min, max, and mean using axis-based operations"
      ]
    },
    {
      "cell_type": "code",
      "execution_count": 49,
      "id": "3d90f886",
      "metadata": {
        "id": "3d90f886",
        "colab": {
          "base_uri": "https://localhost:8080/"
        },
        "outputId": "0503e175-c000-4526-d1b7-2d6103a7cdbe"
      },
      "outputs": [
        {
          "output_type": "stream",
          "name": "stdout",
          "text": [
            "Min:  [14.7 15.7 13.6 15.9 12.4 15.5 15.3 13.5 14.3 11.5]\n",
            "Max:  [28.2 28.7 25.7 27.1 24.9 26.2 25.9 26.  27.1 28.5]\n",
            "Mean:  [21.26086957 21.25652174 21.30434783 21.43043478 21.53913043 21.85833333\n",
            " 21.17391304 20.8952381  20.76956522 21.62272727]\n"
          ]
        }
      ],
      "source": [
        "# TODO: Reshape and aggregate\n",
        "# Hint: temp_matrix = temp.reshape((10, 24))\n",
        "# Write functions to find min, max, mean across rows\n",
        "\n",
        "temp_matrix = temp.reshape((10, 24))\n",
        "\n",
        "\n",
        "daily_min = np.nanmin(temp_matrix, axis=1)\n",
        "daily_max = np.nanmax(temp_matrix, axis=1)\n",
        "daily_mean = np.nanmean(temp_matrix, axis=1)\n",
        "\n",
        "print('Min: ',daily_min)\n",
        "print('Max: ',daily_max)\n",
        "print('Mean: ',daily_mean)"
      ]
    },
    {
      "cell_type": "markdown",
      "id": "fc787766",
      "metadata": {
        "id": "fc787766"
      },
      "source": [
        "### b) Normalize the temperature matrix\n",
        "- Subtract the mean and divide by std deviation\n",
        "- Do it manually using NumPy functions"
      ]
    },
    {
      "cell_type": "code",
      "execution_count": 50,
      "id": "80f02a5a",
      "metadata": {
        "id": "80f02a5a",
        "colab": {
          "base_uri": "https://localhost:8080/"
        },
        "outputId": "121f8af0-86fe-4099-fbc1-da7b9ec86147"
      },
      "outputs": [
        {
          "output_type": "stream",
          "name": "stdout",
          "text": [
            "[[-1.38142018 -1.49859422 -1.76223579 -1.61576825 -0.12179932 -0.15109283\n",
            "   0.43477733  0.34689681 -0.0339188   2.01662679         nan  1.25499557\n",
            "   1.19640855  0.61053838  1.84086574  0.72771242  0.20042927  0.69841891\n",
            "   0.52265786  0.22972278 -0.91272405 -0.56120195 -0.47332142 -1.93799684]\n",
            " [-1.58647474 -1.64506176 -1.0884851  -0.3854409   0.20042927 -0.0339188\n",
            "   0.40548383  0.05396173  0.6691254   2.16309433 -0.23897336  1.10852803\n",
            "   0.22972278  0.93276698  0.37619032  0.17113576  0.75700593         nan\n",
            "   0.84488645  0.20042927 -0.41473441 -0.736963   -1.41071369 -0.97131107]\n",
            " [-2.26022543 -1.64506176 -0.82484352 -1.58647474  1.28428908 -0.12179932\n",
            "  -0.15109283 -0.18038634  0.28830979  1.28428908  1.0206475  -0.0339188\n",
            "   1.22570206  0.17113576  0.3176033   0.99135399  0.90347347         nan\n",
            "   0.58124488  0.90347347  0.40548383 -0.12179932 -0.79555002 -1.73294228]\n",
            " [-1.35212667 -0.76625651 -1.00060457 -1.55718123  0.05396173  0.22972278\n",
            "   1.69439819  0.69841891  0.17113576  0.84488645  1.60651767  0.90347347\n",
            "          nan  1.28428908  0.78629943 -0.53190844  0.49336435  0.69841891\n",
            "  -0.44402792 -0.06321231 -0.76625651 -0.15109283 -0.47332142 -1.58647474]\n",
            " [-0.47332142 -2.61174753 -0.76625651 -0.70766949 -0.0339188  -0.09250582\n",
            "  -0.50261493 -0.23897336  0.99135399         nan  0.58124488  0.52265786\n",
            "   0.43477733  0.93276698  1.04994101  0.99135399  0.81559294  0.34689681\n",
            "   0.84488645  0.58124488  0.25901628  0.75700593 -1.32283317 -0.85413703]\n",
            " [-1.02989808 -0.82484352 -0.06321231  0.17113576 -1.00060457 -1.38142018\n",
            "   0.58124488  1.0206475   0.34689681  1.3721696   1.19640855  0.87417996\n",
            "   1.43075662 -0.15109283 -0.00462529  0.40548383  0.99135399  0.63983189\n",
            "   1.25499557  0.55195137  0.75700593 -1.70364877 -0.44402792 -1.17636562]\n",
            " [-1.61576825 -1.0884851  -1.00060457         nan -0.44402792  0.61053838\n",
            "  -0.41473441  1.28428908  0.52265786  1.34287609  0.90347347  0.34689681\n",
            "   1.0206475   0.93276698  0.84488645  0.46407084 -0.3854409  -0.18038634\n",
            "  -0.23897336  0.17113576  0.55195137 -1.73294228 -1.76223579 -1.0884851 ]\n",
            " [-2.28951894         nan -1.14707212 -1.90870333 -0.0339188  -0.82484352\n",
            "   0.08325523  0.61053838  1.3721696   0.28830979         nan  1.04994101\n",
            "   0.69841891         nan  0.96206048  0.6691254   1.22570206  0.90347347\n",
            "   0.34689681  0.05396173 -0.67837598 -1.17636562 -1.7915293  -1.00060457]\n",
            " [-2.05517088 -1.17636562 -1.67435527  0.05396173 -1.02989808 -0.0339188\n",
            "  -0.20967985 -0.00462529  0.43477733 -0.0339188   1.10852803  1.28428908\n",
            "   1.69439819  1.07923452         nan  0.69841891  0.05396173  0.87417996\n",
            "   0.6691254  -0.79555002 -0.50261493 -1.93799684 -0.67837598 -1.49859422]\n",
            " [-1.05919159 -1.46930071 -1.32283317 -1.17636562 -0.3854409   0.14184225\n",
            "   0.58124488  0.90347347  0.81559294  2.10450731  1.31358258  1.16711504\n",
            "          nan  0.69841891  0.78629943  0.40548383  0.84488645  0.37619032\n",
            "  -0.0339188   0.61053838 -0.32685388         nan -0.12179932 -2.87538911]]\n"
          ]
        }
      ],
      "source": [
        "# TODO: Normalize temp_matrix\n",
        "# Placeholder for function: def normalize(matrix):\n",
        "# return ...\n",
        "\n",
        "# Apply it to temp_matrix\n",
        "def normalize(matrix):\n",
        "    mean = np.nanmean(matrix)\n",
        "    std = np.nanstd(matrix)\n",
        "\n",
        "    return (matrix - mean) / std\n",
        "\n",
        "normalized_temp_matrix = normalize(temp_matrix)\n",
        "print(normalized_temp_matrix)"
      ]
    },
    {
      "cell_type": "markdown",
      "id": "64b192d5",
      "metadata": {
        "id": "64b192d5"
      },
      "source": [
        "### c) Apply custom mask/filter\n",
        "- Create a mask for wind speed > 15 kmph\n",
        "- Use it to extract high-wind readings"
      ]
    },
    {
      "cell_type": "code",
      "execution_count": 60,
      "id": "09aa193d",
      "metadata": {
        "id": "09aa193d",
        "colab": {
          "base_uri": "https://localhost:8080/"
        },
        "outputId": "94ee6682-1bd7-4467-e226-65c84aab4c43"
      },
      "outputs": [
        {
          "output_type": "stream",
          "name": "stdout",
          "text": [
            "These are the values having speed > 15:\n",
            " [17.6 16.  16.5 16.3 16.7 15.8 17.8 15.1 16.3 15.2 17.  15.9 15.6 15.8\n",
            " 15.4 15.6 16.3 15.3 16.2 16.9 15.3 15.2 15.5 17.4 17.4 15.4 15.4 16.5\n",
            " 17.  15.7]\n"
          ]
        }
      ],
      "source": [
        "# TODO: Create boolean mask and filter wind speeds\n",
        "# mask = wind > 15\n",
        "# high_wind = wind[mask]\n",
        "mask = df['wind_speed_kmph'] > 15\n",
        "high_wind = wind[mask]\n",
        "print('These are the values having speed > 15:\\n',high_wind)\n"
      ]
    },
    {
      "cell_type": "markdown",
      "id": "6a7ea5ad",
      "metadata": {
        "id": "6a7ea5ad"
      },
      "source": [
        "## Final Challenge: Write Your Own Function\n",
        "Write a function `daily_summary(matrix)` that takes a NumPy matrix of shape (10, 24) and returns a summary dictionary for each day."
      ]
    },
    {
      "cell_type": "code",
      "execution_count": 63,
      "id": "96388bd6",
      "metadata": {
        "id": "96388bd6",
        "colab": {
          "base_uri": "https://localhost:8080/"
        },
        "outputId": "fe1ac5e5-a542-41ed-e5c4-4a542205ebb6"
      },
      "outputs": [
        {
          "output_type": "stream",
          "name": "stdout",
          "text": [
            "Day 1 Summary: {'min': np.float64(14.7), 'max': np.float64(28.2), 'mean': np.float64(21.260869565217394)}\n",
            "Day 2 Summary: {'min': np.float64(15.7), 'max': np.float64(28.7), 'mean': np.float64(21.256521739130434)}\n",
            "Day 3 Summary: {'min': np.float64(13.6), 'max': np.float64(25.7), 'mean': np.float64(21.304347826086957)}\n",
            "Day 4 Summary: {'min': np.float64(15.9), 'max': np.float64(27.1), 'mean': np.float64(21.430434782608696)}\n",
            "Day 5 Summary: {'min': np.float64(12.4), 'max': np.float64(24.9), 'mean': np.float64(21.539130434782606)}\n",
            "Day 6 Summary: {'min': np.float64(15.5), 'max': np.float64(26.2), 'mean': np.float64(21.858333333333334)}\n",
            "Day 7 Summary: {'min': np.float64(15.3), 'max': np.float64(25.9), 'mean': np.float64(21.17391304347826)}\n",
            "Day 8 Summary: {'min': np.float64(13.5), 'max': np.float64(26.0), 'mean': np.float64(20.895238095238096)}\n",
            "Day 9 Summary: {'min': np.float64(14.3), 'max': np.float64(27.1), 'mean': np.float64(20.769565217391307)}\n",
            "Day 10 Summary: {'min': np.float64(11.5), 'max': np.float64(28.5), 'mean': np.float64(21.622727272727275)}\n"
          ]
        }
      ],
      "source": [
        "# TODO: Write and test your function\n",
        "# Example usage:\n",
        "# summaries = daily_summary(temp_matrix)\n",
        "def daily_summary(matrix):\n",
        "    summary_list = []\n",
        "\n",
        "    for day in matrix:\n",
        "        day_summary = {\n",
        "            'min': np.nanmin(day),\n",
        "            'max': np.nanmax(day),\n",
        "            'mean': np.nanmean(day)\n",
        "        }\n",
        "        summary_list.append(day_summary)\n",
        "\n",
        "    return summary_list\n",
        "\n",
        "#calling the function\n",
        "summaries = daily_summary(temp_matrix)\n",
        "\n",
        "# Print the summary for each day\n",
        "for i, summary in enumerate(summaries):\n",
        "    print(f\"Day {i + 1} Summary: {summary}\")\n"
      ]
    },
    {
      "cell_type": "markdown",
      "id": "f9e64f53",
      "metadata": {
        "id": "f9e64f53"
      },
      "source": [
        "## ✅ Submit your notebook once complete.\n",
        "- Add comments where necessary"
      ]
    }
  ],
  "metadata": {
    "language_info": {
      "name": "python"
    },
    "colab": {
      "provenance": []
    },
    "kernelspec": {
      "name": "python3",
      "display_name": "Python 3"
    }
  },
  "nbformat": 4,
  "nbformat_minor": 5
}