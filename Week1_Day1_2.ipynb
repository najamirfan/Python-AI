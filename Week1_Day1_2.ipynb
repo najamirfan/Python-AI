{
  "cells": [
    {
      "cell_type": "markdown",
      "id": "b7784241",
      "metadata": {
        "id": "b7784241"
      },
      "source": [
        "# 💻 Bootcamp Week 1 - Day 1 Lab\n",
        "### Python Fundamentals & Data Structures\n",
        "Welcome to the Day 1 lab session! This lab will reinforce your understanding of core Python syntax and data structures. Complete each section step by step."
      ]
    },
    {
      "cell_type": "markdown",
      "id": "74936675",
      "metadata": {
        "id": "74936675"
      },
      "source": [
        "## 🔸 Step 1: Variables & Data Types\n",
        "Create variables of different types and observe their behavior."
      ]
    },
    {
      "cell_type": "code",
      "execution_count": null,
      "id": "944dc52a",
      "metadata": {
        "id": "944dc52a"
      },
      "outputs": [],
      "source": [
        "# TODO: Define a string, integer, float, and boolean\n",
        "# Hint: Use type() to verify the type of each variable\n",
        "name = ''  # e.g., 'Alice'\n",
        "age = 0    # e.g., 25\n",
        "height = 0.0  # e.g., 5.7\n",
        "is_student = False\n",
        "\n",
        "# Print each variable and its type"
      ]
    },
    {
      "cell_type": "markdown",
      "id": "e4bf65c8",
      "metadata": {
        "id": "e4bf65c8"
      },
      "source": [
        "## 🔸 Step 2: Conditional Statements\n",
        "Write a simple program to evaluate a student's grade."
      ]
    },
    {
      "cell_type": "code",
      "execution_count": null,
      "id": "465bb020",
      "metadata": {
        "id": "465bb020"
      },
      "outputs": [],
      "source": [
        "# TODO: Ask user to enter a score (0-100) and print the grade\n",
        "# Hint: Use if-elif-else ladder\n",
        "score = int(input(\"Enter your score: \"))\n",
        "# Add grading logic here"
      ]
    },
    {
      "cell_type": "markdown",
      "id": "7075f45d",
      "metadata": {
        "id": "7075f45d"
      },
      "source": [
        "## 🔸 Step 3: Loops & Pattern Printing\n",
        "Use loops to generate simple patterns."
      ]
    },
    {
      "cell_type": "code",
      "execution_count": null,
      "id": "2c08279d",
      "metadata": {
        "id": "2c08279d"
      },
      "outputs": [],
      "source": [
        "# TODO: Print a right-angled triangle using '*'\n",
        "n = 5  # height of triangle\n",
        "for i in range(1, n+1):\n",
        "    print('*' * i)"
      ]
    },
    {
      "cell_type": "markdown",
      "id": "45651611",
      "metadata": {
        "id": "45651611"
      },
      "source": [
        "## 🔸 Step 4: Lists & Comprehensions\n",
        "Create and manipulate lists using Pythonic techniques."
      ]
    },
    {
      "cell_type": "code",
      "execution_count": null,
      "id": "8c5b360d",
      "metadata": {
        "id": "8c5b360d"
      },
      "outputs": [],
      "source": [
        "# TODO: Create a list of squares from 1 to 10 using list comprehension\n",
        "squares = [ ]  # Fill this\n",
        "print(squares)"
      ]
    },
    {
      "cell_type": "markdown",
      "id": "2a041512",
      "metadata": {
        "id": "2a041512"
      },
      "source": [
        "## 🔸 Step 5: Tuples, Sets, and Dictionaries\n",
        "Explore basic operations on key Python data structures."
      ]
    },
    {
      "cell_type": "code",
      "execution_count": null,
      "id": "cc192a5b",
      "metadata": {
        "id": "cc192a5b"
      },
      "outputs": [],
      "source": [
        "# TODO: Create a tuple of 5 items, add values to a set, and use a dictionary\n",
        "sample_tuple = ( )  # Fill tuple\n",
        "sample_set = set()\n",
        "sample_set.add('apple')\n",
        "sample_set.add('banana')\n",
        "sample_dict = {'name': 'Alice', 'age': 25}"
      ]
    },
    {
      "cell_type": "markdown",
      "id": "ada94d6a",
      "metadata": {
        "id": "ada94d6a"
      },
      "source": [
        "## 🔸 Step 6: Challenge - Word Frequency Counter\n",
        "Write a Python program that counts the frequency of each word in a string."
      ]
    },
    {
      "cell_type": "code",
      "execution_count": null,
      "id": "29bbc4b6",
      "metadata": {
        "id": "29bbc4b6"
      },
      "outputs": [],
      "source": [
        "# TODO: Word frequency counter using dictionary\n",
        "text = \"Python is simple yet powerful. Python is easy to learn.\"\n",
        "# Split text and count frequency\n",
        "word_freq = {}\n",
        "# Fill the logic here to count words\n",
        "print(word_freq)"
      ]
    },
    {
      "cell_type": "markdown",
      "id": "cd87d9b4",
      "metadata": {
        "id": "cd87d9b4"
      },
      "source": [
        "## 🔸 Step 7 (Optional): List Mutability in Functions\n",
        "Pass a list to a function and modify it. Observe the changes."
      ]
    },
    {
      "cell_type": "code",
      "execution_count": null,
      "id": "f038fced",
      "metadata": {
        "id": "f038fced"
      },
      "outputs": [],
      "source": [
        "# TODO: Define a function that appends items to a list and observe mutability\n",
        "def modify_list(my_list):\n",
        "    my_list.append(\"new item\")\n",
        "\n",
        "lst = [\"item1\", \"item2\"]\n",
        "modify_list(lst)\n",
        "print(lst)"
      ]
    },
    {
      "cell_type": "markdown",
      "source": [
        "**MY SOLUTION**"
      ],
      "metadata": {
        "id": "b6KLKZnvBXy1"
      },
      "id": "b6KLKZnvBXy1"
    },
    {
      "cell_type": "code",
      "source": [
        "import numpy as np\n",
        "import pandas as pd\n",
        "\n",
        "#variable and datatye\n",
        "name = 'najam'\n",
        "age= 25\n",
        "height= 5.9\n",
        "is_student= True"
      ],
      "metadata": {
        "id": "-jqUDEhDBWFR"
      },
      "id": "-jqUDEhDBWFR",
      "execution_count": 51,
      "outputs": []
    },
    {
      "cell_type": "code",
      "source": [
        "print('name:\\t', name)\n",
        "print('age:\\t',age)\n",
        "print('height:\\t',height)\n",
        "print('student:',is_student)"
      ],
      "metadata": {
        "colab": {
          "base_uri": "https://localhost:8080/"
        },
        "id": "A3FL_trSBWPg",
        "outputId": "ba583bd8-5ccd-44d7-b664-3909ffa3d179"
      },
      "id": "A3FL_trSBWPg",
      "execution_count": 52,
      "outputs": [
        {
          "output_type": "stream",
          "name": "stdout",
          "text": [
            "name:\t najam\n",
            "age:\t 25\n",
            "height:\t 5.9\n",
            "student: True\n"
          ]
        }
      ]
    },
    {
      "cell_type": "code",
      "source": [
        "#grade calculation\n",
        "score= int(input(\"enter your score b/w 0 to 100: \"))\n",
        "if score > 100:\n",
        "    print('invalid input/score')\n",
        "elif score >= 90:\n",
        "    grade= 'A'\n",
        "    print('grade:',grade)\n",
        "elif score >= 80:\n",
        "    grade= 'B'\n",
        "    print('grade:',grade)\n",
        "elif score >= 70:\n",
        "    grade = 'C'\n",
        "    print('grade:',grade)\n",
        "elif score >= 50:\n",
        "    grade = 'D'\n",
        "    print('grade:',grade)\n",
        "else:\n",
        "  grade = 'F'\n",
        "  print('grade', grade)\n",
        ""
      ],
      "metadata": {
        "colab": {
          "base_uri": "https://localhost:8080/"
        },
        "id": "NRgJDfYhBWYH",
        "outputId": "1cdfea53-fa87-485e-fc6b-e64274fb60c5"
      },
      "id": "NRgJDfYhBWYH",
      "execution_count": 53,
      "outputs": [
        {
          "output_type": "stream",
          "name": "stdout",
          "text": [
            "enter your score b/w 0 to 100: 78\n",
            "grade: C\n"
          ]
        }
      ]
    },
    {
      "cell_type": "code",
      "source": [
        " #Loops & Pattern Printing\n",
        "\n",
        "n= 5\n",
        "for i in range(1, n+1, 1):\n",
        "  print('*' *i)\n",
        "\n"
      ],
      "metadata": {
        "colab": {
          "base_uri": "https://localhost:8080/"
        },
        "id": "-5NFL3utBWb5",
        "outputId": "9cc194c4-ddb5-4c97-c472-719aa9e97b41"
      },
      "id": "-5NFL3utBWb5",
      "execution_count": 54,
      "outputs": [
        {
          "output_type": "stream",
          "name": "stdout",
          "text": [
            "*\n",
            "**\n",
            "***\n",
            "****\n",
            "*****\n"
          ]
        }
      ]
    },
    {
      "cell_type": "code",
      "source": [
        "# TODO: Create a list of squares from 1 to 10 using list comprehension\n",
        "squares = [x**2 for x in range(1, 11)]\n",
        "print(squares)"
      ],
      "metadata": {
        "colab": {
          "base_uri": "https://localhost:8080/"
        },
        "id": "_VV6SeoKBWeX",
        "outputId": "289b44f6-14e4-413d-b4ab-52a2b6401979"
      },
      "id": "_VV6SeoKBWeX",
      "execution_count": 55,
      "outputs": [
        {
          "output_type": "stream",
          "name": "stdout",
          "text": [
            "[1, 4, 9, 16, 25, 36, 49, 64, 81, 100]\n"
          ]
        }
      ]
    },
    {
      "cell_type": "code",
      "source": [
        "# tuple\n",
        "\n",
        "sample_tuple = (1, 2, 3, 4, 5)\n",
        "\n",
        "sample_set = set()\n",
        "sample_set.add('apple')\n",
        "sample_set.add('banana')\n",
        "sample_set.add('cherry')\n",
        "\n",
        "sample_dict = {'name': 'Alice', 'age': 25, 'city': 'New York'}\n",
        "\n",
        "print('tuple:', sample_tuple)\n",
        "print('set:',sample_set)\n",
        "print('dictionary:',sample_dict)"
      ],
      "metadata": {
        "colab": {
          "base_uri": "https://localhost:8080/"
        },
        "id": "5m2jFiE0BWhI",
        "outputId": "c7a9c514-d2d7-471b-da3f-3dbc58766102"
      },
      "id": "5m2jFiE0BWhI",
      "execution_count": 58,
      "outputs": [
        {
          "output_type": "stream",
          "name": "stdout",
          "text": [
            "tuple: (1, 2, 3, 4, 5)\n",
            "set: {'apple', 'banana', 'cherry'}\n",
            "dictionary: {'name': 'Alice', 'age': 25, 'city': 'New York'}\n"
          ]
        }
      ]
    },
    {
      "cell_type": "code",
      "source": [
        "text = \"Python is simple yet powerful. Python is easy to learn.\"\n",
        "count = 0\n",
        "in_word = False\n",
        "\n",
        "for char in text:\n",
        "    if char != ' ' and not in_word:\n",
        "        count += 1\n",
        "        in_word = True\n",
        "    elif char == ' ':\n",
        "        in_word = False\n",
        "\n",
        "print(\"Word count:\", count)\n"
      ],
      "metadata": {
        "colab": {
          "base_uri": "https://localhost:8080/"
        },
        "id": "M4XOhT0MK_BG",
        "outputId": "e939c538-e601-4989-a5c5-2199489162f9"
      },
      "id": "M4XOhT0MK_BG",
      "execution_count": 67,
      "outputs": [
        {
          "output_type": "stream",
          "name": "stdout",
          "text": [
            "Word count: 10\n"
          ]
        }
      ]
    },
    {
      "cell_type": "code",
      "source": [
        "# TODO: Define a function that appends items to a list and observe mutability\n",
        "def modify_list(my_list):\n",
        "    my_list.append(\"new item\")\n",
        "\n",
        "lst = [\"item1\", \"item2\"]\n",
        "modify_list(lst)\n",
        "print(lst)"
      ],
      "metadata": {
        "colab": {
          "base_uri": "https://localhost:8080/"
        },
        "id": "A_eqYrsqMQW3",
        "outputId": "5984f9c0-89d0-4b32-80f7-45a284010d5c"
      },
      "id": "A_eqYrsqMQW3",
      "execution_count": 68,
      "outputs": [
        {
          "output_type": "stream",
          "name": "stdout",
          "text": [
            "['item1', 'item2', 'new item']\n"
          ]
        }
      ]
    },
    {
      "cell_type": "code",
      "source": [
        "# TODO: Define a function that appends items to a list and observe mutability\n",
        "def modify_list(my_list):\n",
        "    return my_list + [\"new item\"]\n",
        "\n",
        "lst = [\"item1\", \"item2\"]\n",
        "lst= modify_list(lst)\n",
        "print(lst)"
      ],
      "metadata": {
        "colab": {
          "base_uri": "https://localhost:8080/"
        },
        "id": "uelEnqXPMR8U",
        "outputId": "135cd5e9-0fd7-4625-aa3c-393ea292ab83"
      },
      "id": "uelEnqXPMR8U",
      "execution_count": 72,
      "outputs": [
        {
          "output_type": "stream",
          "name": "stdout",
          "text": [
            "['item1', 'item2', 'new item']\n"
          ]
        }
      ]
    }
  ],
  "metadata": {
    "colab": {
      "provenance": []
    },
    "language_info": {
      "name": "python"
    },
    "kernelspec": {
      "name": "python3",
      "display_name": "Python 3"
    }
  },
  "nbformat": 4,
  "nbformat_minor": 5
}